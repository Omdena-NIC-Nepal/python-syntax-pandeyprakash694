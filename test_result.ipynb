{
 "cells": [
  {
   "cell_type": "markdown",
   "id": "1fcde03c-4d63-4580-830d-4c5c36d1de46",
   "metadata": {},
   "source": [
    "### Question 1:"
   ]
  },
  {
   "cell_type": "code",
   "execution_count": 2,
   "id": "da492914-a53b-4941-9c67-61a91737f6a1",
   "metadata": {},
   "outputs": [
    {
     "name": "stdout",
     "output_type": "stream",
     "text": [
      "My name is Prakash Pandey and I am 33 years old\n"
     ]
    }
   ],
   "source": [
    "def format_string(name, age):\n",
    "    \"\"\"\n",
    "    Create a formatted string using f-strings.\n",
    "    Args:\n",
    "        name (str): Person's name\n",
    "        age (int): Person's age\n",
    "    Returns:\n",
    "        str: Formatted string\n",
    "    \"\"\"\n",
    "\n",
    "    return(f\"My name is {name} and I am {age} years old\")\n",
    "\n",
    "print(format_string(\"Prakash Pandey\", 33))"
   ]
  },
  {
   "cell_type": "markdown",
   "id": "3098e224-2619-4ec3-8018-c1b2fba818f9",
   "metadata": {},
   "source": [
    "### Question2: "
   ]
  },
  {
   "cell_type": "code",
   "execution_count": 7,
   "id": "fab8f260-17fe-4181-84e4-c11e17eb6527",
   "metadata": {},
   "outputs": [
    {
     "name": "stdin",
     "output_type": "stream",
     "text": [
      "Enter a number to check  10\n"
     ]
    },
    {
     "name": "stdout",
     "output_type": "stream",
     "text": [
      "Equal\n"
     ]
    }
   ],
   "source": [
    "def conditional_check(number):\n",
    "    \"\"\"\n",
    "    Check if a number is greater, lesser, or equal to 10.\n",
    "    Args:\n",
    "        number (int): Number to check\n",
    "    Returns:\n",
    "        str: \"Greater\", \"Lesser\", or \"Equal\"\n",
    "    \"\"\"\n",
    "    if number > 10:\n",
    "        print(\"Greater\")\n",
    "    elif number < 10:\n",
    "        print(\"Lesser\")\n",
    "    else:\n",
    "        print(\"Equal\")\n",
    "\n",
    "number = int(input(\"Enter a number to check \"))\n",
    "result = conditional_check(number)"
   ]
  },
  {
   "cell_type": "markdown",
   "id": "0023c5c5-3d7a-424d-a210-15a2660f6a98",
   "metadata": {},
   "source": [
    "### Question 3"
   ]
  },
  {
   "cell_type": "code",
   "execution_count": 10,
   "id": "9f8f40a3-c98b-4ed1-8896-d09785a965fb",
   "metadata": {},
   "outputs": [
    {
     "name": "stdin",
     "output_type": "stream",
     "text": [
      "Enter the number 3\n"
     ]
    },
    {
     "name": "stdout",
     "output_type": "stream",
     "text": [
      "6\n"
     ]
    }
   ],
   "source": [
    "def loop_sum(n):\n",
    "    \"\"\"\n",
    "    Calculate sum of numbers from 1 to n using a loop.\n",
    "    Args:\n",
    "        n (int): Upper limit\n",
    "    Returns:\n",
    "        int: Sum of numbers\n",
    "    \"\"\"\n",
    "    sum = 0\n",
    "    for i in range(1, n + 1):\n",
    "        sum += i\n",
    "    return sum\n",
    "\n",
    "n = int(input(\"Enter the number\"))\n",
    "print(loop_sum(n))"
   ]
  },
  {
   "cell_type": "code",
   "execution_count": 13,
   "id": "3b25e5a0-cd35-4f2a-ab71-a6a1555ee5f7",
   "metadata": {},
   "outputs": [
    {
     "name": "stdout",
     "output_type": "stream",
     "text": [
      "(15, 5, 1)\n"
     ]
    }
   ],
   "source": [
    "def list_operations(numbers):\n",
    "    \"\"\"\n",
    "    Perform operations on a list of numbers.\n",
    "    Args:\n",
    "        numbers (list): List of numbers\n",
    "    Returns:\n",
    "        tuple: (sum, max, min)\n",
    "    \"\"\"\n",
    "    if not numbers:\n",
    "        return 0, None, None\n",
    "\n",
    "    sum = 0  \n",
    "    max_num = numbers[0]  \n",
    "    min_num = numbers[0] \n",
    "\n",
    "    for num in numbers:\n",
    "        sum += num  \n",
    "        if num > max_num:\n",
    "            max_num = num\n",
    "        if num < min_num: \n",
    "            min_num = num\n",
    "\n",
    "    return sum, max_num, min_num\n",
    "\n",
    "numbers = [1, 3, 5, 4, 2]\n",
    "result = list_operations(numbers)\n",
    "print(result)"
   ]
  },
  {
   "cell_type": "code",
   "execution_count": 15,
   "id": "a5e5eefc-2425-426f-91ea-feb9c8415500",
   "metadata": {},
   "outputs": [
    {
     "name": "stdin",
     "output_type": "stream",
     "text": [
      "Enter the number of elements in the list:  2\n",
      "Enter element 1:  1\n",
      "Enter element 2:  2\n"
     ]
    },
    {
     "name": "stdout",
     "output_type": "stream",
     "text": [
      "[1.0, 2.0]\n",
      "Results (sum, max, min): (3.0, 2.0, 1.0)\n"
     ]
    }
   ],
   "source": [
    "def list_operations(numbers):\n",
    "    \"\"\"\n",
    "    Perform operations on a list of numbers.\n",
    "    Args:\n",
    "        numbers (list): List of numbers\n",
    "    Returns:\n",
    "        tuple: (sum, max, min)\n",
    "    \"\"\"\n",
    "    if not numbers:\n",
    "        return 0, None, None\n",
    "\n",
    "    total = 0  # Initialize sum\n",
    "    max_num = numbers[0]  # Initialize max with the first element\n",
    "    min_num = numbers[0]  # Initialize min with the first element\n",
    "\n",
    "    for num in numbers:\n",
    "        total += num  # Calculate sum\n",
    "        if num > max_num:  # Update max\n",
    "            max_num = num\n",
    "        if num < min_num:  # Update min\n",
    "            min_num = num\n",
    "\n",
    "    return total, max_num, min_num\n",
    "\n",
    "# Ask the user for the number of elements\n",
    "try:\n",
    "    num_elements = int(input(\"Enter the number of elements in the list: \"))\n",
    "    if num_elements <= 0:\n",
    "        print(\"Number of elements must be greater than 0.\")\n",
    "    else:\n",
    "        # Ask the user to input the elements\n",
    "        numbers = []\n",
    "        for i in range(num_elements):\n",
    "            while True:\n",
    "                try:\n",
    "                    element = float(input(f\"Enter element {i + 1}: \"))\n",
    "                    numbers.append(element)\n",
    "                    break\n",
    "                except ValueError:\n",
    "                    print(\"Invalid input. Please enter a numeric value.\")\n",
    "\n",
    "        # Perform list operations\n",
    "        print(numbers)\n",
    "        result = list_operations(numbers)\n",
    "        print(\"Results (sum, max, min):\", result)\n",
    "except ValueError:\n",
    "    print(\"Invalid input. Please enter a valid integer for the number of elements.\")"
   ]
  },
  {
   "cell_type": "code",
   "execution_count": 16,
   "id": "f8aa37ee-d413-48fb-af90-e9e29778fe8c",
   "metadata": {},
   "outputs": [
    {
     "name": "stdout",
     "output_type": "stream",
     "text": [
      "['Prakash Pandey', 'Shreya Shrestha']\n"
     ]
    }
   ],
   "source": [
    "def dict_operations(students_dict):\n",
    "    \"\"\"\n",
    "    Find students with scores above 80.\n",
    "    Args:\n",
    "        students_dict (dict): Dictionary of student names and scores\n",
    "    Returns:\n",
    "        list: Names of students with scores > 80\n",
    "    \"\"\"\n",
    "    student_score_above80 = []\n",
    "    for student, score in students_dict.items():\n",
    "        if score > 80:\n",
    "            student_score_above80.append(student)\n",
    "    return student_score_above80\n",
    "\n",
    "student_percentage = {'Prakash Pandey': 83, 'Ram Shrestha': 63, 'Shreya Shrestha': 81, 'Emul Ofz': 73}\n",
    "result = dict_operations(student_percentage)\n",
    "print(result)"
   ]
  },
  {
   "cell_type": "code",
   "execution_count": 17,
   "id": "cf39f187-cadf-4aee-bd2a-29ee001c83b7",
   "metadata": {},
   "outputs": [
    {
     "name": "stdout",
     "output_type": "stream",
     "text": [
      "Enter student name and score. Type 'done' when finished.\n"
     ]
    },
    {
     "name": "stdin",
     "output_type": "stream",
     "text": [
      "Enter student name:  prakash\n",
      "Enter score for prakash:  56\n",
      "Enter student name:  shreya\n",
      "Enter score for shreya:  82\n",
      "Enter student name:  done\n"
     ]
    },
    {
     "name": "stdout",
     "output_type": "stream",
     "text": [
      "Students with scores above 80: ['shreya']\n"
     ]
    }
   ],
   "source": [
    "def dict_operations(students_dict):\n",
    "    \"\"\"\n",
    "    Find students with scores above 80.\n",
    "    Args:\n",
    "        students_dict (dict): Dictionary of student names and scores\n",
    "    Returns:\n",
    "        list: Names of students with scores > 80\n",
    "    \"\"\"\n",
    "    student_score_above80 = []\n",
    "    for student, score in students_dict.items():\n",
    "        if score > 80:\n",
    "            student_score_above80.append(student)\n",
    "    return student_score_above80\n",
    "\n",
    "# Ask the user to create a dictionary\n",
    "students_dict = {}\n",
    "print(\"Enter student name and score. Type 'done' when finished.\")\n",
    "\n",
    "while True:\n",
    "    name = input(\"Enter student name: \")\n",
    "    if name.lower() == 'done':\n",
    "        break\n",
    "    try:\n",
    "        score = int(input(f\"Enter score for {name}: \"))\n",
    "        students_dict[name] = score\n",
    "    except ValueError:\n",
    "        print(\"Please enter a valid number for the score.\")\n",
    "\n",
    "result = dict_operations(students_dict)\n",
    "print(\"Students with scores above 80:\", result)\n"
   ]
  },
  {
   "cell_type": "code",
   "execution_count": 18,
   "id": "5ae753ed-7178-450d-ab7d-b954c79f0a14",
   "metadata": {},
   "outputs": [
    {
     "name": "stdout",
     "output_type": "stream",
     "text": [
      "{4, 5}\n"
     ]
    }
   ],
   "source": [
    "def set_operations(list1, list2):\n",
    "    \"\"\"\n",
    "    Find common elements between two lists.\n",
    "    Args:\n",
    "        list1 (list): First list\n",
    "        list2 (list): Second list\n",
    "    Returns:\n",
    "        set: Common elements\n",
    "    \"\"\"\n",
    "    set1 = set(list1)\n",
    "    set2 = set(list2)\n",
    "    common_elements = set1.intersection(set2)\n",
    "    return common_elements\n",
    "list1 = [1, 2, 3, 4, 5]\n",
    "list2 = [4, 5, 6, 7, 8]\n",
    "result = set_operations(list1, list2)\n",
    "print(result)"
   ]
  },
  {
   "cell_type": "code",
   "execution_count": 19,
   "id": "48a56714-478b-44d4-a4c6-166e9c9c2eb8",
   "metadata": {},
   "outputs": [
    {
     "name": "stdin",
     "output_type": "stream",
     "text": [
      "Enter the First Number 3\n",
      "Enter the Second Number 4\n"
     ]
    },
    {
     "name": "stdout",
     "output_type": "stream",
     "text": [
      "{'addition': 7.0, 'subtraction': -1.0, 'multiplication': 12.0, 'division': 0.75, 'modulus': 3.0, 'floor_division': 0.0}\n"
     ]
    }
   ],
   "source": [
    "def arithmetic_ops(a, b):\n",
    "    \"\"\"\n",
    "    Perform arithmetic operations.\n",
    "    Args:\n",
    "        a (float): First number\n",
    "        b (float): Second number\n",
    "    Returns:\n",
    "        dict: Results of arithmetic operations\n",
    "    \"\"\"\n",
    "    results = {\n",
    "        \"addition\": a + b,\n",
    "        \"subtraction\": a - b,\n",
    "        \"multiplication\": a * b,\n",
    "        \"division\": a / b if b != 0 else \"undefined\",\n",
    "        \"modulus\": a % b if b != 0 else \"undefined\",\n",
    "        \"floor_division\": a // b if b != 0 else \"undefined\"\n",
    "    }\n",
    "    return results\n",
    "\n",
    "a = float(input(\"Enter the First Number\"))\n",
    "b = float(input(\"Enter the Second Number\"))\n",
    "results = arithmetic_ops(a,b)\n",
    "print (results)"
   ]
  },
  {
   "cell_type": "code",
   "execution_count": 22,
   "id": "5458f2e0-9678-4d84-a973-af3de7a6eb89",
   "metadata": {},
   "outputs": [
    {
     "name": "stdout",
     "output_type": "stream",
     "text": [
      "{'AND': False, 'OR': True, 'NOT x': False, 'NOT y': True}\n"
     ]
    }
   ],
   "source": [
    "def logical_ops(x, y):\n",
    "    \"\"\"\n",
    "    Perform logical operations.\n",
    "    Args:\n",
    "        x (bool): First boolean\n",
    "        y (bool): Second boolean\n",
    "    Returns:\n",
    "        dict: Results of logical operations\n",
    "    \"\"\"\n",
    "    results = {\n",
    "        \"AND\": x and y,\n",
    "        \"OR\": x or y,    \n",
    "        \"NOT x\": not x,  \n",
    "        \"NOT y\": not y   \n",
    "    }\n",
    "    return results\n",
    "x = True\n",
    "y = False\n",
    "result = logical_ops(x, y)\n",
    "print(result)"
   ]
  },
  {
   "cell_type": "code",
   "execution_count": 23,
   "id": "a75acf0e-7fc3-41e8-9447-9b5879c51a2d",
   "metadata": {},
   "outputs": [
    {
     "name": "stdin",
     "output_type": "stream",
     "text": [
      "Enter value of a 2\n",
      "Enter value of b 3\n"
     ]
    },
    {
     "name": "stdout",
     "output_type": "stream",
     "text": [
      "{'AND': 2, 'OR': 3, 'XOR': 1, 'NOT a': -3, 'NOT b': -4, 'Left Shift a by 1': 4, 'Right Shift a by 1': 1, 'Left Shift b by 1': 6, 'Right Shift b by 1': 1}\n"
     ]
    }
   ],
   "source": [
    "def bitwise_ops(a, b):\n",
    "    \"\"\"\n",
    "    Perform bitwise operations.\n",
    "    Args:\n",
    "        a (int): First integer\n",
    "        b (int): Second integer\n",
    "    Returns:\n",
    "        dict: Results of bitwise operations\n",
    "    \"\"\"\n",
    "    results = {\n",
    "        \"AND\": a & b,       \n",
    "        \"OR\": a | b,        \n",
    "        \"XOR\": a ^ b,       \n",
    "        \"NOT a\": ~a,        \n",
    "        \"NOT b\": ~b,        \n",
    "        \"Left Shift a by 1\": a << 1,  \n",
    "        \"Right Shift a by 1\": a >> 1, \n",
    "        \"Left Shift b by 1\": b << 1,  \n",
    "        \"Right Shift b by 1\": b >> 1  \n",
    "    }\n",
    "    return results\n",
    "\n",
    "a = int(input(\"Enter value of a\"))\n",
    "b = int(input(\"Enter value of b\"))\n",
    "result = bitwise_ops(a, b)\n",
    "print(result)"
   ]
  },
  {
   "cell_type": "code",
   "execution_count": 24,
   "id": "f33da8ba-07ca-4fe5-8261-8de5619772f8",
   "metadata": {},
   "outputs": [
    {
     "name": "stdin",
     "output_type": "stream",
     "text": [
      "Enter True or False for x True\n",
      "Enter True or False for y False\n"
     ]
    },
    {
     "name": "stdout",
     "output_type": "stream",
     "text": [
      "{'AND': True, 'OR': True, 'NOT x': False, 'NOT y': False}\n"
     ]
    }
   ],
   "source": [
    "def logical_ops(x, y):\n",
    "    \"\"\"\n",
    "    Perform logical operations.\n",
    "    Args:\n",
    "        x (bool): First boolean\n",
    "        y (bool): Second boolean\n",
    "    Returns:\n",
    "        dict: Results of logical operations\n",
    "    \"\"\"\n",
    "    results = {\n",
    "        \"AND\": x and y, # high if all input is high\n",
    "        \"OR\": x or y,    # high if any one input is high\n",
    "        \"NOT x\": not x,  # opposite of x\n",
    "        \"NOT y\": not y   # opposite of y\n",
    "    }\n",
    "    return results\n",
    "\n",
    "x = bool(input(\"Enter True or False for x\"))\n",
    "y = bool(input(\"Enter True or False for y\"))\n",
    "result = logical_ops(x, y)\n",
    "print(result)"
   ]
  },
  {
   "cell_type": "code",
   "execution_count": null,
   "id": "d1154fa5-0c99-4cce-b412-c5f135862960",
   "metadata": {},
   "outputs": [],
   "source": []
  }
 ],
 "metadata": {
  "kernelspec": {
   "display_name": "Python 3 (ipykernel)",
   "language": "python",
   "name": "python3"
  },
  "language_info": {
   "codemirror_mode": {
    "name": "ipython",
    "version": 3
   },
   "file_extension": ".py",
   "mimetype": "text/x-python",
   "name": "python",
   "nbconvert_exporter": "python",
   "pygments_lexer": "ipython3",
   "version": "3.12.4"
  }
 },
 "nbformat": 4,
 "nbformat_minor": 5
}
